{
 "cells": [
  {
   "cell_type": "markdown",
   "metadata": {},
   "source": [
    "# Part 1"
   ]
  },
  {
   "cell_type": "markdown",
   "metadata": {},
   "source": [
    "- read in a grid of one-digit numbers\n",
    "- consider 4 direct neighbors of each entry\n",
    "- if all 4 neighbors are lower than entry, this is a low point\n",
    "- identify low points\n",
    "\n",
    "Warning: corner cases don't have 4 neighbors of course"
   ]
  },
  {
   "cell_type": "markdown",
   "metadata": {},
   "source": [
    "The risk level of a low point is 1 plus its height.\n",
    "\n",
    "Sum up the risk levels of all low points"
   ]
  },
  {
   "cell_type": "code",
   "execution_count": 3,
   "metadata": {},
   "outputs": [],
   "source": [
    "import numpy as np\n"
   ]
  },
  {
   "cell_type": "code",
   "execution_count": 4,
   "metadata": {},
   "outputs": [],
   "source": [
    "def create_grid(lines):\n",
    "    grid = np.zeros((len(lines), len(lines[0])), dtype=int)\n",
    "    for index, line in enumerate(lines):\n",
    "        entries = [int(entry) for entry in list(line)]\n",
    "        grid[index] = entries\n",
    "    return grid\n",
    "\n",
    "def get_neighbors(x, y, grid):\n",
    "    neighbors = []\n",
    "    if x+1 < grid.shape[0]:\n",
    "        neighbors.append(grid[x+1, y])\n",
    "    if x-1 >= 0:\n",
    "        neighbors.append(grid[x-1, y])\n",
    "    if y+1 < grid.shape[1]:\n",
    "        neighbors.append(grid[x, y+1])\n",
    "    if y-1 >= 0:\n",
    "        neighbors.append(grid[x, y-1])\n",
    "    return neighbors\n",
    "\n",
    "def is_low_point(x, y, grid):\n",
    "    neighbors = get_neighbors(x, y, grid)\n",
    "    return all([grid[x, y] < neighbor for neighbor in neighbors])\n",
    "        \n",
    "def get_score(x, y, grid):\n",
    "    return grid[x, y] + 1\n",
    "\n",
    "def part1(file_name):\n",
    "    with open(file_name, 'r') as f:\n",
    "        lines = [line.strip() for line in f.readlines()]\n",
    "    \n",
    "    score = 0\n",
    "\n",
    "    grid = create_grid(lines)\n",
    "    for x in range(grid.shape[0]):\n",
    "        for y in range(grid.shape[1]):\n",
    "            if is_low_point(x, y, grid):\n",
    "                score += get_score(x, y, grid)\n",
    "    print(score)"
   ]
  },
  {
   "cell_type": "code",
   "execution_count": 3,
   "metadata": {},
   "outputs": [
    {
     "name": "stdout",
     "output_type": "stream",
     "text": [
      "15\n"
     ]
    }
   ],
   "source": [
    "part1('example.txt')"
   ]
  },
  {
   "cell_type": "code",
   "execution_count": 4,
   "metadata": {},
   "outputs": [
    {
     "name": "stdout",
     "output_type": "stream",
     "text": [
      "444\n"
     ]
    }
   ],
   "source": [
    "part1('input.txt')"
   ]
  },
  {
   "cell_type": "markdown",
   "metadata": {},
   "source": [
    "# Part 2"
   ]
  },
  {
   "cell_type": "markdown",
   "metadata": {},
   "source": [
    "Find basins\n",
    "- height 9 is never part of a basin\n",
    "- all other points are in exactly one basin\n",
    "- every low point has a basin around it\n",
    "\n",
    "Get three largest basins, multiply their sizes (points in the basin) together"
   ]
  },
  {
   "cell_type": "code",
   "execution_count": 21,
   "metadata": {},
   "outputs": [],
   "source": [
    "def count_basin_neighbors(x, y, grid, visited):\n",
    "    # print('x', x, 'y', y)\n",
    "    visited[x, y] = 1\n",
    "    count = 0\n",
    "    if x+1 < grid.shape[0]:\n",
    "        if grid[x+1, y] < 9:\n",
    "            if not visited[x+1, y]:\n",
    "                count += 1 + count_basin_neighbors(x+1, y, grid, visited)\n",
    "    if x-1 >= 0:\n",
    "        if grid[x-1, y] < 9:\n",
    "            if not visited[x-1, y]:\n",
    "                count += 1 + count_basin_neighbors(x-1, y, grid, visited)\n",
    "    if y+1 < grid.shape[1]:\n",
    "        if grid[x, y+1] < 9:\n",
    "            if not visited[x, y+1]:\n",
    "                count += 1 + count_basin_neighbors(x, y+1, grid, visited)\n",
    "    if y-1 >= 0:\n",
    "        if grid[x, y-1] < 9:\n",
    "            if not visited[x, y-1]:\n",
    "                count += 1 + count_basin_neighbors(x, y-1, grid, visited)\n",
    "    return count\n",
    "\n",
    "def get_basin_size(x, y, grid):\n",
    "    visited = np.zeros(grid.shape, dtype=int)\n",
    "    size = count_basin_neighbors(x, y, grid, visited) + 1\n",
    "    return size\n",
    "\n",
    "def part2(file_name):\n",
    "    with open(file_name, 'r') as f:\n",
    "        lines = [line.strip() for line in f.readlines()]\n",
    "    \n",
    "    basin_sizes = []\n",
    "\n",
    "    grid = create_grid(lines)\n",
    "    print(grid)\n",
    "    \n",
    "    for x in range(grid.shape[0]):\n",
    "        for y in range(grid.shape[1]):\n",
    "            if is_low_point(x, y, grid):\n",
    "                basin_sizes.append(get_basin_size(x, y, grid))\n",
    "    basin_sizes.sort(reverse=True)\n",
    "    print('basin sizes', basin_sizes)\n",
    "    print('score', basin_sizes[0]*basin_sizes[1]*basin_sizes[2])"
   ]
  },
  {
   "cell_type": "code",
   "execution_count": 22,
   "metadata": {},
   "outputs": [
    {
     "name": "stdout",
     "output_type": "stream",
     "text": [
      "[[2 1 9 9 9 4 3 2 1 0]\n",
      " [3 9 8 7 8 9 4 9 2 1]\n",
      " [9 8 5 6 7 8 9 8 9 2]\n",
      " [8 7 6 7 8 9 6 7 8 9]\n",
      " [9 8 9 9 9 6 5 6 7 8]]\n",
      "basin sizes [14, 9, 9, 3]\n",
      "score 1134\n"
     ]
    }
   ],
   "source": [
    "part2('example.txt')"
   ]
  },
  {
   "cell_type": "code",
   "execution_count": 23,
   "metadata": {},
   "outputs": [
    {
     "name": "stdout",
     "output_type": "stream",
     "text": [
      "[[7 6 7 ... 6 7 8]\n",
      " [4 5 6 ... 5 6 7]\n",
      " [5 6 7 ... 4 5 6]\n",
      " ...\n",
      " [6 5 6 ... 5 6 7]\n",
      " [3 4 5 ... 4 7 8]\n",
      " [4 5 6 ... 5 6 7]]\n",
      "basin sizes [107, 105, 104, 102, 99, 95, 94, 94, 91, 89, 89, 86, 86, 86, 83, 83, 82, 81, 81, 80, 77, 77, 74, 73, 73, 72, 72, 69, 68, 68, 67, 67, 67, 66, 66, 66, 65, 65, 65, 65, 64, 64, 64, 62, 61, 61, 61, 60, 60, 60, 59, 58, 57, 57, 56, 56, 55, 54, 53, 52, 51, 51, 51, 51, 50, 49, 48, 47, 47, 47, 46, 46, 45, 44, 44, 44, 42, 42, 42, 41, 41, 41, 40, 40, 39, 38, 38, 37, 36, 36, 35, 35, 34, 32, 32, 32, 32, 32, 31, 31, 31, 31, 29, 28, 27, 27, 27, 26, 26, 26, 26, 25, 25, 24, 24, 24, 23, 23, 22, 22, 22, 22, 22, 22, 21, 21, 21, 21, 20, 20, 20, 20, 19, 18, 18, 18, 18, 18, 17, 17, 17, 17, 16, 16, 16, 16, 15, 15, 15, 15, 15, 14, 14, 14, 14, 14, 13, 13, 13, 13, 13, 12, 12, 12, 11, 11, 10, 10, 10, 10, 9, 9, 9, 8, 7, 7, 7, 6, 5, 5, 5, 5, 5, 5, 4, 4, 4, 4, 4, 3, 3, 3, 3, 3, 3, 3, 3, 2, 2, 2, 2, 2, 2, 2, 2, 2]\n",
      "score 1168440\n"
     ]
    }
   ],
   "source": [
    "part2('input.txt')"
   ]
  }
 ],
 "metadata": {
  "interpreter": {
   "hash": "49b6ccb0000b82ea848e299440380c3a99a810abe28d9c73c80267e6544d3f85"
  },
  "kernelspec": {
   "display_name": "Python 3.9.6 64-bit ('.venv': venv)",
   "language": "python",
   "name": "python3"
  },
  "language_info": {
   "codemirror_mode": {
    "name": "ipython",
    "version": 3
   },
   "file_extension": ".py",
   "mimetype": "text/x-python",
   "name": "python",
   "nbconvert_exporter": "python",
   "pygments_lexer": "ipython3",
   "version": "3.9.6"
  },
  "orig_nbformat": 4
 },
 "nbformat": 4,
 "nbformat_minor": 2
}
