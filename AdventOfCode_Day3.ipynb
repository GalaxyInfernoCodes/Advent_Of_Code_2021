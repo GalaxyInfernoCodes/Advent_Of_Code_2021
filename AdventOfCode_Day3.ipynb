{
  "cells": [
    {
      "cell_type": "markdown",
      "metadata": {
        "colab_type": "text",
        "id": "view-in-github"
      },
      "source": [
        "<a href=\"https://colab.research.google.com/github/ChromaCodeASMR/Advent_Of_Code_2021/blob/main/AdventOfCode_Day3.ipynb\" target=\"_parent\"><img src=\"https://colab.research.google.com/assets/colab-badge.svg\" alt=\"Open In Colab\"/></a>"
      ]
    },
    {
      "cell_type": "markdown",
      "metadata": {
        "id": "8XS-dDe-rs9J"
      },
      "source": [
        "# Part 1"
      ]
    },
    {
      "cell_type": "code",
      "execution_count": null,
      "metadata": {
        "colab": {
          "base_uri": "https://localhost:8080/"
        },
        "id": "O3VACA1zn8fO",
        "outputId": "12ec7221-721c-4978-c2b9-bc44720515ac"
      },
      "outputs": [
        {
          "ename": "",
          "evalue": "",
          "output_type": "error",
          "traceback": [
            "\u001b[1;31mFailed to start the Kernel. \n",
            "Kernel .venv (Python 3.10.1) is not usable. Check the Jupyter output tab for more information. \n",
            "View Jupyter <a href='command:jupyter.viewOutput'>log</a> for further details."
          ]
        }
      ],
      "source": [
        "def part1(file_name):\n",
        "    with open(file_name, 'r') as f:\n",
        "        lines = f.readlines()\n",
        "        diagnostics = [entry.strip() for entry in lines]\n",
        "    \n",
        "    gamma, epsilon = '', ''\n",
        "    for i in range(len(diagnostics[0])):\n",
        "        all_entries_at_pos = [entry[i] for entry in diagnostics]\n",
        "        if all_entries_at_pos.count('0') > len(diagnostics)/2:\n",
        "            gamma += '0'\n",
        "            epsilon += '1'\n",
        "        else:\n",
        "            gamma += '1'\n",
        "            epsilon += '0'\n",
        "    print('gamma', gamma, int(gamma, base=2))\n",
        "    print('epsilon', epsilon, int(epsilon, base=2))\n",
        "    print('power consumption', int(gamma, base=2)*int(epsilon, base=2))"
      ]
    },
    {
      "cell_type": "code",
      "execution_count": null,
      "metadata": {},
      "outputs": [],
      "source": [
        "part1('example.txt')"
      ]
    },
    {
      "cell_type": "markdown",
      "metadata": {
        "id": "44B4qY7Sru5H"
      },
      "source": [
        "# Part 2"
      ]
    },
    {
      "cell_type": "code",
      "execution_count": 23,
      "metadata": {
        "id": "qYv9QYScvIgO"
      },
      "outputs": [],
      "source": [
        "from copy import copy"
      ]
    },
    {
      "cell_type": "code",
      "execution_count": 43,
      "metadata": {
        "id": "wx5jzoIHvqf0"
      },
      "outputs": [],
      "source": [
        "with open('input.txt', 'r') as f:\n",
        "    lines = f.readlines()\n",
        "    diagnostics = [entry.strip() for entry in lines]"
      ]
    },
    {
      "cell_type": "code",
      "execution_count": 44,
      "metadata": {
        "id": "CsmFqek5pFWl"
      },
      "outputs": [],
      "source": [
        "diag_length = len(diagnostics[0])\n",
        "oxygen_diagnostics = copy(diagnostics)\n",
        "for i in range(0, diag_length):\n",
        "    if len(oxygen_diagnostics) == 1:\n",
        "        break\n",
        "    all_entries_at_bit = [entry[i] for entry in oxygen_diagnostics]\n",
        "    common_bit = '1' if all_entries_at_bit.count('1') >= len(oxygen_diagnostics)/2 \\\n",
        "                        else '0'\n",
        "    oxygen_diagnostics = [oxygen_diagnostics[j] \n",
        "                            for j in range(len(oxygen_diagnostics)) \n",
        "                            if oxygen_diagnostics[j][i]==common_bit]"
      ]
    },
    {
      "cell_type": "code",
      "execution_count": 45,
      "metadata": {
        "colab": {
          "base_uri": "https://localhost:8080/"
        },
        "id": "mUZU-puXylvo",
        "outputId": "abb47e7f-befe-4dbc-d498-54d09ca7015a"
      },
      "outputs": [
        {
          "data": {
            "text/plain": [
              "['101011011111']"
            ]
          },
          "execution_count": 45,
          "metadata": {},
          "output_type": "execute_result"
        }
      ],
      "source": [
        "oxygen_diagnostics"
      ]
    },
    {
      "cell_type": "code",
      "execution_count": 46,
      "metadata": {
        "id": "TgwYQegJwU5c"
      },
      "outputs": [],
      "source": [
        "diag_length = len(diagnostics[0])\n",
        "co2_diagnostics = copy(diagnostics)\n",
        "for i in range(0, diag_length):\n",
        "    if len(co2_diagnostics) == 1:\n",
        "        break\n",
        "    all_entries_at_bit = [entry[i] for entry in co2_diagnostics]\n",
        "    least_common_bit = '0' if all_entries_at_bit.count('1') >= len(co2_diagnostics)/2 \\\n",
        "                        else '1'\n",
        "    co2_diagnostics = [co2_diagnostics[j] \n",
        "                            for j in range(len(co2_diagnostics)) \n",
        "                            if co2_diagnostics[j][i]==least_common_bit]"
      ]
    },
    {
      "cell_type": "code",
      "execution_count": 47,
      "metadata": {
        "colab": {
          "base_uri": "https://localhost:8080/"
        },
        "id": "LnbkWK-WyXZX",
        "outputId": "48474dda-dcf2-427e-95d8-3110903707cc"
      },
      "outputs": [
        {
          "data": {
            "text/plain": [
              "['010101001001']"
            ]
          },
          "execution_count": 47,
          "metadata": {},
          "output_type": "execute_result"
        }
      ],
      "source": [
        "co2_diagnostics"
      ]
    },
    {
      "cell_type": "code",
      "execution_count": 48,
      "metadata": {
        "colab": {
          "base_uri": "https://localhost:8080/"
        },
        "id": "JRxe26T9yqzU",
        "outputId": "7b15a9d2-7840-43a5-d149-43eb3c66dd91"
      },
      "outputs": [
        {
          "data": {
            "text/plain": [
              "3765399"
            ]
          },
          "execution_count": 48,
          "metadata": {},
          "output_type": "execute_result"
        }
      ],
      "source": [
        "life_support_rating = int(oxygen_diagnostics[0], base=2) * int(co2_diagnostics[0], base=2)\n",
        "life_support_rating"
      ]
    },
    {
      "cell_type": "code",
      "execution_count": null,
      "metadata": {
        "id": "MGoW0fHazFYN"
      },
      "outputs": [],
      "source": []
    }
  ],
  "metadata": {
    "colab": {
      "authorship_tag": "ABX9TyP910ioETiObSmDQ7fyQiiz",
      "collapsed_sections": [],
      "include_colab_link": true,
      "name": "AdventOfCode_Day3.ipynb",
      "provenance": []
    },
    "kernelspec": {
      "display_name": "Python 3",
      "name": "python3"
    },
    "language_info": {
      "name": "python",
      "version": "3.10.1"
    }
  },
  "nbformat": 4,
  "nbformat_minor": 0
}
