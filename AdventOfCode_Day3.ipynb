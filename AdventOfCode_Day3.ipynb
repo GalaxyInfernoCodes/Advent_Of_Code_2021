{
  "nbformat": 4,
  "nbformat_minor": 0,
  "metadata": {
    "colab": {
      "name": "AdventOfCode_Day3.ipynb",
      "provenance": [],
      "collapsed_sections": [],
      "authorship_tag": "ABX9TyP910ioETiObSmDQ7fyQiiz",
      "include_colab_link": true
    },
    "kernelspec": {
      "name": "python3",
      "display_name": "Python 3"
    },
    "language_info": {
      "name": "python"
    }
  },
  "cells": [
    {
      "cell_type": "markdown",
      "metadata": {
        "id": "view-in-github",
        "colab_type": "text"
      },
      "source": [
        "<a href=\"https://colab.research.google.com/github/ChromaCodeASMR/Advent_Of_Code_2021/blob/main/AdventOfCode_Day3.ipynb\" target=\"_parent\"><img src=\"https://colab.research.google.com/assets/colab-badge.svg\" alt=\"Open In Colab\"/></a>"
      ]
    },
    {
      "cell_type": "markdown",
      "metadata": {
        "id": "8XS-dDe-rs9J"
      },
      "source": [
        "# Part 1"
      ]
    },
    {
      "cell_type": "code",
      "metadata": {
        "id": "NtguhkyDlJLT"
      },
      "source": [
        "with open('input.txt', 'r') as f:\n",
        "    lines = f.readlines()\n",
        "    diagnostics = [entry.strip() for entry in lines]"
      ],
      "execution_count": 15,
      "outputs": []
    },
    {
      "cell_type": "code",
      "metadata": {
        "colab": {
          "base_uri": "https://localhost:8080/"
        },
        "id": "O3VACA1zn8fO",
        "outputId": "12ec7221-721c-4978-c2b9-bc44720515ac"
      },
      "source": [
        "power_consumption = 0\n",
        "gamma, epsilon = 0, 0\n",
        "diag_length = len(diagnostics[0])\n",
        "for i in range(0, diag_length):\n",
        "    all_entries_at_bit = [entry[-(i+1)] for entry in diagnostics]\n",
        "    if all_entries_at_bit.count('0') >= len(diagnostics)//2:\n",
        "        # gamma does not change because entry is zero\n",
        "        epsilon += 2**i\n",
        "    else:\n",
        "        # epsilon does not change because entry is zero\n",
        "        gamma += 2**i\n",
        "print('gamma', gamma)\n",
        "print('epsilon', epsilon)\n",
        "print('power consumtion', gamma*epsilon)"
      ],
      "execution_count": 17,
      "outputs": [
        {
          "output_type": "stream",
          "name": "stdout",
          "text": [
            "gamma 2849\n",
            "epsilon 1246\n",
            "power consumtion 3549854\n"
          ]
        }
      ]
    },
    {
      "cell_type": "markdown",
      "metadata": {
        "id": "44B4qY7Sru5H"
      },
      "source": [
        "# Part 2"
      ]
    },
    {
      "cell_type": "code",
      "metadata": {
        "id": "qYv9QYScvIgO"
      },
      "source": [
        "from copy import copy"
      ],
      "execution_count": 23,
      "outputs": []
    },
    {
      "cell_type": "code",
      "metadata": {
        "id": "wx5jzoIHvqf0"
      },
      "source": [
        "with open('input.txt', 'r') as f:\n",
        "    lines = f.readlines()\n",
        "    diagnostics = [entry.strip() for entry in lines]"
      ],
      "execution_count": 43,
      "outputs": []
    },
    {
      "cell_type": "code",
      "metadata": {
        "id": "CsmFqek5pFWl"
      },
      "source": [
        "diag_length = len(diagnostics[0])\n",
        "oxygen_diagnostics = copy(diagnostics)\n",
        "for i in range(0, diag_length):\n",
        "    if len(oxygen_diagnostics) == 1:\n",
        "        break\n",
        "    all_entries_at_bit = [entry[i] for entry in oxygen_diagnostics]\n",
        "    common_bit = '1' if all_entries_at_bit.count('1') >= len(oxygen_diagnostics)/2 \\\n",
        "                        else '0'\n",
        "    oxygen_diagnostics = [oxygen_diagnostics[j] \n",
        "                            for j in range(len(oxygen_diagnostics)) \n",
        "                            if oxygen_diagnostics[j][i]==common_bit]"
      ],
      "execution_count": 44,
      "outputs": []
    },
    {
      "cell_type": "code",
      "metadata": {
        "colab": {
          "base_uri": "https://localhost:8080/"
        },
        "id": "mUZU-puXylvo",
        "outputId": "abb47e7f-befe-4dbc-d498-54d09ca7015a"
      },
      "source": [
        "oxygen_diagnostics"
      ],
      "execution_count": 45,
      "outputs": [
        {
          "output_type": "execute_result",
          "data": {
            "text/plain": [
              "['101011011111']"
            ]
          },
          "metadata": {},
          "execution_count": 45
        }
      ]
    },
    {
      "cell_type": "code",
      "metadata": {
        "id": "TgwYQegJwU5c"
      },
      "source": [
        "diag_length = len(diagnostics[0])\n",
        "co2_diagnostics = copy(diagnostics)\n",
        "for i in range(0, diag_length):\n",
        "    if len(co2_diagnostics) == 1:\n",
        "        break\n",
        "    all_entries_at_bit = [entry[i] for entry in co2_diagnostics]\n",
        "    least_common_bit = '0' if all_entries_at_bit.count('1') >= len(co2_diagnostics)/2 \\\n",
        "                        else '1'\n",
        "    co2_diagnostics = [co2_diagnostics[j] \n",
        "                            for j in range(len(co2_diagnostics)) \n",
        "                            if co2_diagnostics[j][i]==least_common_bit]"
      ],
      "execution_count": 46,
      "outputs": []
    },
    {
      "cell_type": "code",
      "metadata": {
        "colab": {
          "base_uri": "https://localhost:8080/"
        },
        "id": "LnbkWK-WyXZX",
        "outputId": "48474dda-dcf2-427e-95d8-3110903707cc"
      },
      "source": [
        "co2_diagnostics"
      ],
      "execution_count": 47,
      "outputs": [
        {
          "output_type": "execute_result",
          "data": {
            "text/plain": [
              "['010101001001']"
            ]
          },
          "metadata": {},
          "execution_count": 47
        }
      ]
    },
    {
      "cell_type": "code",
      "metadata": {
        "colab": {
          "base_uri": "https://localhost:8080/"
        },
        "id": "JRxe26T9yqzU",
        "outputId": "7b15a9d2-7840-43a5-d149-43eb3c66dd91"
      },
      "source": [
        "life_support_rating = int(oxygen_diagnostics[0], base=2) * int(co2_diagnostics[0], base=2)\n",
        "life_support_rating"
      ],
      "execution_count": 48,
      "outputs": [
        {
          "output_type": "execute_result",
          "data": {
            "text/plain": [
              "3765399"
            ]
          },
          "metadata": {},
          "execution_count": 48
        }
      ]
    },
    {
      "cell_type": "code",
      "metadata": {
        "id": "MGoW0fHazFYN"
      },
      "source": [
        ""
      ],
      "execution_count": null,
      "outputs": []
    }
  ]
}