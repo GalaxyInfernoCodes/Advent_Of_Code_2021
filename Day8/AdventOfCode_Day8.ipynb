{
 "cells": [
  {
   "cell_type": "markdown",
   "metadata": {},
   "source": [
    "# Part 1"
   ]
  },
  {
   "cell_type": "markdown",
   "metadata": {},
   "source": [
    "In the output values (after |), how many times do digits 1 (two segments), 4 (4 segments), 7 (3 segments), or 8 (7 segments) appear?\n",
    "\n",
    "Input type, one line: \"acedgfb cdfbe gcdfa fbcad dab cefabd cdfgeb eafb cagedb ab | cdfeb fcadb cdfeb cdbaf\""
   ]
  },
  {
   "cell_type": "code",
   "execution_count": 24,
   "metadata": {},
   "outputs": [],
   "source": [
    "def get_segments(line):\n",
    "    observations, outputs = [part.strip() for part in line.split('|')]\n",
    "    observations = observations.split(' ')\n",
    "    outputs = outputs.split(' ')\n",
    "    return observations, outputs\n",
    "\n",
    "def part1(file_name):\n",
    "    with open(file_name, 'r') as f:\n",
    "        lines = [line.strip() for line in f.readlines()]\n",
    "    \n",
    "    special_numbers = 0\n",
    "\n",
    "    for line in lines:\n",
    "        _, outputs = get_segments(line)\n",
    "        outputs_lengths = [len(output) for output in outputs]\n",
    "        special_numbers += outputs_lengths.count(2)\n",
    "        special_numbers += outputs_lengths.count(4)\n",
    "        special_numbers += outputs_lengths.count(3)\n",
    "        special_numbers += outputs_lengths.count(7)\n",
    "\n",
    "    print(special_numbers)"
   ]
  },
  {
   "cell_type": "code",
   "execution_count": 23,
   "metadata": {},
   "outputs": [
    {
     "name": "stdout",
     "output_type": "stream",
     "text": [
      "26\n"
     ]
    }
   ],
   "source": [
    "part1('example.txt')"
   ]
  },
  {
   "cell_type": "code",
   "execution_count": 25,
   "metadata": {},
   "outputs": [
    {
     "name": "stdout",
     "output_type": "stream",
     "text": [
      "245\n"
     ]
    }
   ],
   "source": [
    "part1('input.txt')"
   ]
  },
  {
   "cell_type": "markdown",
   "metadata": {},
   "source": [
    "# Part 2"
   ]
  },
  {
   "cell_type": "markdown",
   "metadata": {},
   "source": [
    "Now deduct the mapping from signals to the depicted numbers. \n",
    "\n",
    "Then translate the 4-digit output number of each lines. Add those numbers across all lines to get output value."
   ]
  },
  {
   "cell_type": "markdown",
   "metadata": {},
   "source": [
    "-aaaa-            original wire names\n",
    "\n",
    "b----c\n",
    "\n",
    "b----c\n",
    "\n",
    "-dddd-\n",
    "\n",
    "e----f\n",
    "\n",
    "e----f\n",
    "\n",
    "-gggg-"
   ]
  },
  {
   "cell_type": "code",
   "execution_count": 31,
   "metadata": {},
   "outputs": [
    {
     "data": {
      "text/plain": [
       "'a'"
      ]
     },
     "execution_count": 31,
     "metadata": {},
     "output_type": "execute_result"
    }
   ],
   "source": [
    "list(set(\"acf\") - set('cf'))[0]"
   ]
  },
  {
   "cell_type": "code",
   "execution_count": 33,
   "metadata": {},
   "outputs": [
    {
     "data": {
      "text/plain": [
       "['a', 'f', 'c']"
      ]
     },
     "execution_count": 33,
     "metadata": {},
     "output_type": "execute_result"
    }
   ],
   "source": [
    "[letter for letter in 'afc']"
   ]
  },
  {
   "cell_type": "code",
   "execution_count": 93,
   "metadata": {},
   "outputs": [],
   "source": [
    "def get_segments(line):\n",
    "    observations, outputs = [part.strip() for part in line.split('|')]\n",
    "    observations = observations.split(' ')\n",
    "    outputs = outputs.split(' ')\n",
    "    return observations, outputs\n",
    "\n",
    "def deduct_wires(observations):\n",
    "    real_to_fake_wires = dict()\n",
    "    # identifying the obvervated signals of 1, 4, 7 bc they're unique\n",
    "    obs_one = [entry for entry in observations if len(entry) == 2][0]\n",
    "    obs_four = [entry for entry in observations if len(entry) == 4][0]\n",
    "    obs_seven = [entry for entry in observations if len(entry) == 3][0]\n",
    "    # grouping the observations with length 5, corresponding to numbers 2, 3 and 5\n",
    "    obs_five_segments = [entry for entry in observations if len(entry) == 5]\n",
    "    # grouping the observations with length 6, corresponding to numbers 6, 9 and 0\n",
    "    obs_six_segments = [entry for entry in observations if len(entry) == 6]\n",
    "\n",
    "    # finding wire 'a' by taking the wire that is in 7 but not in 1\n",
    "    real_to_fake_wires['a'] = [wire for wire in obs_seven if wire not in obs_one][0]\n",
    "    # finding wire 'd' by taking the wire from 4 that is in all observations with length 5\n",
    "    real_to_fake_wires['d'] = [wire for wire in obs_four if all([wire in fiver for fiver in obs_five_segments])][0]\n",
    "    # finding wire 'b' by taking the wires from 4 without the ones in 1 and fake_d\n",
    "    real_to_fake_wires['b'] = (set(obs_four) - set(obs_one).union(set(real_to_fake_wires['d']))).pop()\n",
    "    # finding wire 'f' by taking the entry from 1 that is in all observation with length 6\n",
    "    real_to_fake_wires['f'] = [wire for wire in obs_one if all([wire in sixer for sixer in obs_six_segments])][0]\n",
    "    # the other entry in 1 is 'c'\n",
    "    real_to_fake_wires['c'] = (set(obs_one) - set(real_to_fake_wires['f'])).pop()\n",
    "    # identify the two unmapped mystery wires\n",
    "    mystery_wires = list(set(\"abcdefg\") - set(real_to_fake_wires.values()))\n",
    "    # the mystery wire that only appears in four different numbers is 'e'\n",
    "    mystery_wire_counts = [len([obs for obs in observations if mystery_wire in set(obs)]) for mystery_wire in mystery_wires]\n",
    "    real_to_fake_wires['e'] = mystery_wires[0] if mystery_wire_counts[0] == 4 else mystery_wires[1]\n",
    "    # the other one is 'g'\n",
    "    real_to_fake_wires['g'] = mystery_wires[1] if mystery_wire_counts[0] == 4 else mystery_wires[0]\n",
    "\n",
    "    # reverse dict\n",
    "    fake_to_real_wires = {v: k for k, v in real_to_fake_wires.items()}\n",
    "    return fake_to_real_wires\n",
    "\n",
    "def translate_signal(signal, fake_to_real_wires):\n",
    "    real_signal = ''\n",
    "    for wire in signal:\n",
    "        real_signal += fake_to_real_wires[wire]\n",
    "    return real_signal\n",
    "\n",
    "def signal_to_number(signal):\n",
    "    sorted_signal = ''.join(sorted(signal))\n",
    "    signal_mapping = {'cf': '1',\n",
    "                        'acdeg': '2',\n",
    "                        'acdfg': '3',\n",
    "                        'bcdf': '4',\n",
    "                        'abdfg': '5',\n",
    "                        'abdefg': '6',\n",
    "                        'acf': '7',\n",
    "                        'abcdefg': '8',\n",
    "                        'abcdfg': '9',\n",
    "                        'abcefg': '0'}\n",
    "    return signal_mapping[sorted_signal]\n",
    "\n",
    "\n",
    "def part2(file_name):\n",
    "    with open(file_name, 'r') as f:\n",
    "        lines = [line.strip() for line in f.readlines()]\n",
    "\n",
    "    output_sum = 0\n",
    "\n",
    "    for line in lines:\n",
    "        observations, outputs = get_segments(line)\n",
    "        fake_to_real_wires = deduct_wires(observations)\n",
    "        #print('fake to real wires', fake_to_real_wires)\n",
    "        translated_outputs = [signal_to_number(translate_signal(output, fake_to_real_wires)) for output in outputs]\n",
    "        #print('translated outputs', translated_outputs)\n",
    "        output_sum += int(''.join(translated_outputs))\n",
    "    print(output_sum)\n"
   ]
  },
  {
   "cell_type": "code",
   "execution_count": 94,
   "metadata": {},
   "outputs": [
    {
     "name": "stdout",
     "output_type": "stream",
     "text": [
      "5353\n"
     ]
    }
   ],
   "source": [
    "part2('example1.txt')"
   ]
  },
  {
   "cell_type": "code",
   "execution_count": 95,
   "metadata": {},
   "outputs": [
    {
     "name": "stdout",
     "output_type": "stream",
     "text": [
      "61229\n"
     ]
    }
   ],
   "source": [
    "part2('example2.txt')"
   ]
  },
  {
   "cell_type": "code",
   "execution_count": 96,
   "metadata": {},
   "outputs": [
    {
     "name": "stdout",
     "output_type": "stream",
     "text": [
      "983026\n"
     ]
    }
   ],
   "source": [
    "part2('input.txt')"
   ]
  },
  {
   "cell_type": "code",
   "execution_count": null,
   "metadata": {},
   "outputs": [],
   "source": []
  }
 ],
 "metadata": {
  "interpreter": {
   "hash": "49b6ccb0000b82ea848e299440380c3a99a810abe28d9c73c80267e6544d3f85"
  },
  "kernelspec": {
   "display_name": "Python 3.9.6 64-bit ('.venv': venv)",
   "language": "python",
   "name": "python3"
  },
  "language_info": {
   "codemirror_mode": {
    "name": "ipython",
    "version": 3
   },
   "file_extension": ".py",
   "mimetype": "text/x-python",
   "name": "python",
   "nbconvert_exporter": "python",
   "pygments_lexer": "ipython3",
   "version": "3.9.6"
  },
  "orig_nbformat": 4
 },
 "nbformat": 4,
 "nbformat_minor": 2
}
