{
  "nbformat": 4,
  "nbformat_minor": 0,
  "metadata": {
    "colab": {
      "name": "AdventOfCode_Day2.ipynb",
      "provenance": [],
      "collapsed_sections": [],
      "authorship_tag": "ABX9TyOo8IbK6pUQyXGBOKs5cloU"
    },
    "kernelspec": {
      "name": "python3",
      "display_name": "Python 3"
    },
    "language_info": {
      "name": "python"
    }
  },
  "cells": [
    {
      "cell_type": "markdown",
      "metadata": {
        "id": "0TZb3LZqcsZm"
      },
      "source": [
        "# Part 1"
      ]
    },
    {
      "cell_type": "code",
      "metadata": {
        "id": "Hs2COfG-Y6vA"
      },
      "source": [
        "with open('input.txt', 'r') as f:\n",
        "    lines = f.readlines()\n",
        "    commands = [entry.strip() for entry in lines]"
      ],
      "execution_count": null,
      "outputs": []
    },
    {
      "cell_type": "code",
      "metadata": {
        "colab": {
          "base_uri": "https://localhost:8080/",
          "height": 35
        },
        "id": "FFVoQrYhaXF9",
        "outputId": "1dcf916e-4d11-4b40-f287-ff421299e675"
      },
      "source": [
        "commands[-1]"
      ],
      "execution_count": null,
      "outputs": [
        {
          "output_type": "execute_result",
          "data": {
            "application/vnd.google.colaboratory.intrinsic+json": {
              "type": "string"
            },
            "text/plain": [
              "'forward 3'"
            ]
          },
          "metadata": {},
          "execution_count": 4
        }
      ]
    },
    {
      "cell_type": "code",
      "metadata": {
        "id": "NiMxfmOwadfz"
      },
      "source": [
        "horizontal_pos, depth = 0, 0\n",
        "\n",
        "for command in commands:\n",
        "    direction, amount = command.split(' ')[0], int(command.split(' ')[1])\n",
        "    if 'forward' in direction:\n",
        "        horizontal_pos += amount\n",
        "    elif 'up' in direction:\n",
        "        depth -= amount\n",
        "    elif 'down' in direction:\n",
        "        depth += amount"
      ],
      "execution_count": null,
      "outputs": []
    },
    {
      "cell_type": "markdown",
      "metadata": {
        "id": "BRrnMdHxb9eH"
      },
      "source": [
        "Answer:"
      ]
    },
    {
      "cell_type": "code",
      "metadata": {
        "colab": {
          "base_uri": "https://localhost:8080/"
        },
        "id": "h5EETr8YbQaw",
        "outputId": "64f36f88-402d-42df-fbfd-56bc8ee95bb2"
      },
      "source": [
        "depth * horizontal_pos"
      ],
      "execution_count": null,
      "outputs": [
        {
          "output_type": "execute_result",
          "data": {
            "text/plain": [
              "2039912"
            ]
          },
          "metadata": {},
          "execution_count": 10
        }
      ]
    },
    {
      "cell_type": "markdown",
      "metadata": {
        "id": "XIldT13Scvd5"
      },
      "source": [
        "# Part 2"
      ]
    },
    {
      "cell_type": "code",
      "metadata": {
        "id": "d-g9UQTeb3FK"
      },
      "source": [
        "horizontal_pos, depth, aim = 0, 0, 0\n",
        "\n",
        "for command in commands:\n",
        "    direction, amount = command.split(' ')[0], int(command.split(' ')[1])\n",
        "    if 'forward' in direction:\n",
        "        horizontal_pos += amount\n",
        "        depth += aim * amount\n",
        "    elif 'up' in direction:\n",
        "        aim -= amount\n",
        "    elif 'down' in direction:\n",
        "        aim += amount"
      ],
      "execution_count": null,
      "outputs": []
    },
    {
      "cell_type": "code",
      "metadata": {
        "colab": {
          "base_uri": "https://localhost:8080/"
        },
        "id": "9BD6NZ_uc-Uc",
        "outputId": "dc911d9f-0238-49ab-a282-6826c4bb4186"
      },
      "source": [
        "depth * horizontal_pos"
      ],
      "execution_count": null,
      "outputs": [
        {
          "output_type": "execute_result",
          "data": {
            "text/plain": [
              "1942068080"
            ]
          },
          "metadata": {},
          "execution_count": 12
        }
      ]
    }
  ]
}