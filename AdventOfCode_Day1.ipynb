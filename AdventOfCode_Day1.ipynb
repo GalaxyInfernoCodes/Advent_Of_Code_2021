{
  "nbformat": 4,
  "nbformat_minor": 0,
  "metadata": {
    "colab": {
      "name": "AdventOfCode_Day1.ipynb",
      "provenance": [],
      "collapsed_sections": [],
      "authorship_tag": "ABX9TyO+cwvJfNb5LXlfz1Az8oBZ"
    },
    "kernelspec": {
      "name": "python3",
      "display_name": "Python 3"
    },
    "language_info": {
      "name": "python"
    }
  },
  "cells": [
    {
      "cell_type": "markdown",
      "metadata": {
        "id": "NPM07LuexxID"
      },
      "source": [
        "# Part 1"
      ]
    },
    {
      "cell_type": "code",
      "metadata": {
        "id": "D2zScLKpnUeY"
      },
      "source": [
        "with open('input.txt', 'r') as f:\n",
        "    lines = f.readlines()\n",
        "    measurements = [int(entry.strip()) for entry in lines]"
      ],
      "execution_count": null,
      "outputs": []
    },
    {
      "cell_type": "code",
      "metadata": {
        "id": "plGGiH1zvlE7"
      },
      "source": [
        "prev_entry = measurements[0]\n",
        "increases = 0\n",
        "for entry in measurements[1:]:\n",
        "    if entry > prev_entry:\n",
        "        increases += 1\n",
        "    prev_entry = entry"
      ],
      "execution_count": null,
      "outputs": []
    },
    {
      "cell_type": "code",
      "metadata": {
        "colab": {
          "base_uri": "https://localhost:8080/"
        },
        "id": "bonqlWwGwAYS",
        "outputId": "baaa0d23-d8a5-4e69-ad31-82638e82a94a"
      },
      "source": [
        "increases"
      ],
      "execution_count": null,
      "outputs": [
        {
          "output_type": "execute_result",
          "data": {
            "text/plain": [
              "1215"
            ]
          },
          "metadata": {},
          "execution_count": 4
        }
      ]
    },
    {
      "cell_type": "markdown",
      "metadata": {
        "id": "JZ8Q8S7yxvss"
      },
      "source": [
        "# Part 2"
      ]
    },
    {
      "cell_type": "code",
      "metadata": {
        "id": "hvWj4bNKx3Fj"
      },
      "source": [
        "import numpy as np"
      ],
      "execution_count": null,
      "outputs": []
    },
    {
      "cell_type": "code",
      "metadata": {
        "id": "3dcBgjdOwBki"
      },
      "source": [
        "sliding_windows = np.convolve(measurements, np.ones(3), 'valid')"
      ],
      "execution_count": null,
      "outputs": []
    },
    {
      "cell_type": "code",
      "metadata": {
        "colab": {
          "base_uri": "https://localhost:8080/"
        },
        "id": "gxuccK5PyQuB",
        "outputId": "6e1f9be2-bf38-4bf0-ec45-843649966548"
      },
      "source": [
        "measurements[0] + measurements[1] + measurements[2]"
      ],
      "execution_count": null,
      "outputs": [
        {
          "output_type": "execute_result",
          "data": {
            "text/plain": [
              "574"
            ]
          },
          "metadata": {},
          "execution_count": 10
        }
      ]
    },
    {
      "cell_type": "code",
      "metadata": {
        "colab": {
          "base_uri": "https://localhost:8080/"
        },
        "id": "h6QgIp3gzI9E",
        "outputId": "9ed43b79-c18a-4b13-dcf7-8459aafdd8dd"
      },
      "source": [
        "sliding_windows[0]"
      ],
      "execution_count": null,
      "outputs": [
        {
          "output_type": "execute_result",
          "data": {
            "text/plain": [
              "574.0"
            ]
          },
          "metadata": {},
          "execution_count": 11
        }
      ]
    },
    {
      "cell_type": "code",
      "metadata": {
        "colab": {
          "base_uri": "https://localhost:8080/"
        },
        "id": "1xv2j9etyDCs",
        "outputId": "2f73e831-681b-410c-ee2b-950b4be79022"
      },
      "source": [
        "print(len(measurements))\n",
        "print(len(sliding_windows))"
      ],
      "execution_count": null,
      "outputs": [
        {
          "output_type": "stream",
          "name": "stdout",
          "text": [
            "2000\n",
            "1998\n"
          ]
        }
      ]
    },
    {
      "cell_type": "code",
      "metadata": {
        "id": "6neskaScyMBG"
      },
      "source": [
        "prev_entry = sliding_windows[0]\n",
        "increases = 0\n",
        "for entry in sliding_windows[1:]:\n",
        "    if entry > prev_entry:\n",
        "        increases += 1\n",
        "    prev_entry = entry"
      ],
      "execution_count": null,
      "outputs": []
    },
    {
      "cell_type": "code",
      "metadata": {
        "colab": {
          "base_uri": "https://localhost:8080/"
        },
        "id": "Z1TLrXEkzWub",
        "outputId": "1fb7229b-e2f6-492e-eb74-fa4813d7ec77"
      },
      "source": [
        "increases"
      ],
      "execution_count": null,
      "outputs": [
        {
          "output_type": "execute_result",
          "data": {
            "text/plain": [
              "1150"
            ]
          },
          "metadata": {},
          "execution_count": 13
        }
      ]
    },
    {
      "cell_type": "code",
      "metadata": {
        "id": "8-OF-575zXwr"
      },
      "source": [
        ""
      ],
      "execution_count": null,
      "outputs": []
    }
  ]
}